{
 "cells": [
  {
   "cell_type": "code",
   "execution_count": 1,
   "metadata": {},
   "outputs": [],
   "source": [
    "## tools\n",
    "\n",
    "from langchain_community.tools import ArxivQueryRun,WikipediaQueryRun\n",
    "from langchain_community.utilities import WikipediaAPIWrapper,ArxivAPIWrapper"
   ]
  },
  {
   "cell_type": "code",
   "execution_count": 2,
   "metadata": {},
   "outputs": [
    {
     "name": "stdout",
     "output_type": "stream",
     "text": [
      "arxiv\n"
     ]
    }
   ],
   "source": [
    "api_wrapper_arxiv=ArxivAPIWrapper(top_k_results=2,doc_content_chars_max=500)\n",
    "arxiv=ArxivQueryRun(api_wrapper=api_wrapper_arxiv,description=\"Query arxiv papers\")\n",
    "print(arxiv.name)"
   ]
  },
  {
   "cell_type": "code",
   "execution_count": 3,
   "metadata": {},
   "outputs": [
    {
     "data": {
      "text/plain": [
       "'Published: 2023-05-23\\nTitle: Fast and energy-efficient non-volatile III-V-on-silicon photonic phase shifter based on memristors\\nAuthors: Zhuoran Fang, Bassem Tossoun, Antoine Descos, Di Liang, Xue Huang, Geza Kurczveil, Arka Majumdar, Raymond G. Beausoleil\\nSummary: Silicon photonics has evolved from lab research to commercial products in the\\npast decade as it plays an increasingly crucial role in data communication for\\nnext-generation data centers and high performance computing1. Recently,\\nprogr'"
      ]
     },
     "execution_count": 3,
     "metadata": {},
     "output_type": "execute_result"
    }
   ],
   "source": [
    "arxiv.invoke(\"What is the latest research on quantum computing?\")"
   ]
  },
  {
   "cell_type": "code",
   "execution_count": 4,
   "metadata": {},
   "outputs": [
    {
     "data": {
      "text/plain": [
       "'wikipedia'"
      ]
     },
     "execution_count": 4,
     "metadata": {},
     "output_type": "execute_result"
    }
   ],
   "source": [
    "api_wrapper_wiki=WikipediaAPIWrapper(top_k_results=1,doc_content_chars_max=500)\n",
    "wiki=WikipediaQueryRun(api_wrapper=api_wrapper_wiki)\n",
    "wiki.name"
   ]
  },
  {
   "cell_type": "code",
   "execution_count": 5,
   "metadata": {},
   "outputs": [],
   "source": [
    "from dotenv import load_dotenv\n",
    "load_dotenv()\n",
    "\n",
    "import os\n",
    "\n",
    "os.environ[\"TAVILY_API_KEY\"]=os.getenv(\"TAVILY_API_KEY\")\n",
    "os.environ[\"GROQ_API_KEY\"]=os.getenv(\"GROQ_API_KEY\")"
   ]
  },
  {
   "cell_type": "code",
   "execution_count": 6,
   "metadata": {},
   "outputs": [],
   "source": [
    "### Tavily Search Tool\n",
    "from langchain_community.tools.tavily_search import TavilySearchResults\n",
    "\n",
    "tavily = TavilySearchResults()"
   ]
  },
  {
   "cell_type": "code",
   "execution_count": 7,
   "metadata": {},
   "outputs": [
    {
     "data": {
      "text/plain": [
       "[{'title': 'Artificial Intelligence News - ScienceDaily',\n",
       "  'url': 'https://www.sciencedaily.com/news/computers_math/artificial_intelligence/',\n",
       "  'content': \"Using Robots in Nursing Homes Linked to Higher Employee Retention, Better Patient Care\\n\\nMonday, January 6, 2025\\n\\nAI Slashes Cost and Time for Chip Design, but That Is Not All\\n\\nThursday, January 2, 2025\\n\\nArtificial Intelligence: Algorithms Improve Medical Image Analysis\\n\\nFriday, December 27, 2024\\n\\nCrossing the Uncanny Valley: Breakthrough in Technology for Lifelike Facial Expressions in Androids\\n\\nThursday, December 26, 2024\\n\\nWind Sensing by Biomimetic Flexible Flapping Wing With Strain Sensors [...] Tuesday, November 12, 2024\\n\\nGiving Robots Superhuman Vision Using Radio Signals\\n\\nMonday, November 11, 2024\\n\\nAI Can Detect Serious Neurologic Changes in Babies in the NICU Using Video Data Alone\\nRobot That Watched Surgery Videos Performs With Skill of Human Doctor, Researchers Report\\n\\nThursday, November 7, 2024\\n\\nRobot Learns How to Clean a Washbasin\\n\\nWednesday, November 6, 2024\\n\\nAI-Driven Mobile Robots Team Up to Tackle Chemical Synthesis\\n\\nThursday, October 31, 2024 [...] Thursday, December 19, 2024\\n\\nMachine Psychology: A Bridge to General AI?\\nLaser-Based Artificial Neuron Mimics Nerve Cell Functions at Lightning Speed\\n\\nWednesday, December 18, 2024\\n\\nSwarms of 'ant-Like' Robots Lift Heavy Objects and Hurl Themselves Over Obstacles\\n\\nTuesday, December 17, 2024\\n\\nDeveloping Artificial Intelligence Tools for Health Care\\nTiny Robots, Big Impact: Revolutionizing Infertility Treatment With Magnetic Microrobots\\n\\nMonday, December 16, 2024\",\n",
       "  'score': 0.7593865},\n",
       " {'title': 'AI News | Latest AI News, Analysis & Events',\n",
       "  'url': 'https://www.artificialintelligence-news.com/',\n",
       "  'content': 'Applications, Artificial Intelligence, Companies, DeepMind, Google, Industries\\nApril 14, 2025\\nIEA: The opportunities and challenges of AI for global energy\\nApplications, Artificial Intelligence, Energy, Ethics & Society, Industries, Research\\nApril 10, 2025\\nSpot AI introduces the world’s first universal AI agent builder for security cameras\\nApplications, Artificial Intelligence, Healthcare, Security\\nApril 10, 2025\\nDeep Learning\\nAlibaba Qwen QwQ-32B: Scaled reinforcement learning showcase [...] Marketing Tech News\\nApril 16, 2025\\nOpenAI explores social platform following $40B funding round\\n\\nAI News\\nApril 15, 2025\\nMeta will train AI models using EU user data\\n\\nDeveloper Tech News\\nApril 15, 2025\\nMasquerading payment npm package installs backdoor\\n\\nTelecoms Tech News\\nApril 15, 2025\\nFCC chair calls EU satellite strategy ‘anti-American’\\nSubscribe\\nAll our premium content and latest tech news delivered straight to your inbox\\nSubscribe\\n\\n\\n\\n\\n\\n\\n\\nExplore [...] Artificial Intelligence, Companies, Deep & Reinforcement Learning, Development\\nMarch 6, 2025\\nDeepSeek-R1 reasoning models rival OpenAI in performance\\nArtificial Intelligence, Companies, Deep & Reinforcement Learning, Development\\nJanuary 20, 2025\\nNew AI training techniques aim to overcome current challenges\\nDeep & Reinforcement Learning, Machine Learning, NVIDIA, Research\\nNovember 28, 2024',\n",
       "  'score': 0.740494},\n",
       " {'title': 'AI News & Artificial Intelligence - TechCrunch',\n",
       "  'url': 'https://techcrunch.com/category/artificial-intelligence/',\n",
       "  'content': '1 day ago\\n\\n\\n\\nAI\\nOpenAI hires team behind GV-backed AI eval platform Context.ai\\n\\nIvan Mehta\\n\\n1 day ago\\n\\n\\n\\nAI\\nAnthropic forms a new team to grow its AWS business\\n\\nKyle Wiggers\\n\\n2 days ago\\n\\n\\n\\nAI\\nAnthropic’s Claude can now read your Gmail\\n\\nMaxwell Zeff\\n\\n2 days ago\\n\\n\\n\\nAI\\nGoogle’s Veo 2 video generating model comes to Gemini\\n\\nKyle Wiggers\\n\\n2 days ago\\n\\n\\n\\nAI\\nWitness a dynamic dialogue between two visionary CEOs\\n\\nCindy Zackney\\n\\n2 days ago\\n\\n\\n\\nIn Brief [...] AI\\nGrok gains a canvas-like tool for creating docs and apps\\n\\nKyle Wiggers\\n\\n1 day ago\\n\\n\\n\\nEnterprise\\nNvidia H20 chip exports hit with license requirement by US government\\n\\nRebecca Szkutak\\n\\n1 day ago\\n\\n\\n\\nFundraising\\nTelli, a YC alum, raises pre-seed funding for its AI voice agents\\n\\nMike Butcher\\n\\n1 day ago\\n\\n\\n\\nAI\\nOpenAI may ‘adjust’ its safeguards if rivals release ‘high-risk’ AI\\n\\nKyle Wiggers\\n\\n1 day ago\\n\\n\\n\\nStartups\\nFigma sent a cease-and-desist letter to Lovable over the term ‘Dev Mode’\\n\\nJulie Bort [...] 16 hours ago\\n\\n\\n\\nGovernment & Policy\\nAMD expects $800M charge due to US’ license requirement for AI chips\\n\\nKyle Wiggers\\n\\n17 hours ago\\n\\n\\n\\nAI\\nA dev built a test to see how AI chatbots respond to controversial topics\\n\\nKyle Wiggers\\n\\n18 hours ago\\n\\n\\n\\nAI\\nHammerspace, an unstructured data wrangler used by Meta, raises $100M at $500M+ valuation\\n\\nIngrid Lunden\\n\\n19 hours ago\\n\\n\\n\\nGovernment & Policy\\nGoogle used AI to suspend over 39M ad accounts suspected of fraud\\n\\nJagmeet Singh\\n\\n20 hours ago',\n",
       "  'score': 0.7156829},\n",
       " {'title': 'Artificial intelligence - NBC News',\n",
       "  'url': 'https://www.nbcnews.com/artificial-intelligence',\n",
       "  'content': \"ARTIFICIAL INTELLIGENCE\\nThe latest news and top stories on artificial intelligence, including ChatGPT, AI Chatbot and Bard.\\n Getty Images\\nARTIFICIAL INTELLIGENCE\\n'Billionaires versus billionaires': OpenAI feud between Elon Musk, Sam Altman faces federal judge\\n SeongJoon Cho / Bloomberg via Getty Images file\\nARTIFICIAL INTELLIGENCE\\nOpenAI partners with U.S. National Laboratories on scientific research, nuclear weapons security\\nAI NEWS\",\n",
       "  'score': 0.6549173}]"
      ]
     },
     "execution_count": 7,
     "metadata": {},
     "output_type": "execute_result"
    }
   ],
   "source": [
    "tavily.invoke(\"Provide me the recent AI news?\")"
   ]
  },
  {
   "cell_type": "code",
   "execution_count": 8,
   "metadata": {},
   "outputs": [],
   "source": [
    "## combine all these tools in the list\n",
    "tools=[arxiv, wiki, tavily]"
   ]
  },
  {
   "cell_type": "code",
   "execution_count": 9,
   "metadata": {},
   "outputs": [],
   "source": [
    "## Initialize the LLM Model\n",
    "from langchain_groq import ChatGroq\n",
    "\n",
    "llm=ChatGroq(model=\"qwen-qwq-32b\")\n"
   ]
  },
  {
   "cell_type": "code",
   "execution_count": 10,
   "metadata": {},
   "outputs": [
    {
     "data": {
      "text/plain": [
       "AIMessage(content='\\n<think>\\nOkay, the user is asking \"What is ML?\" so I need to explain machine learning in a clear and concise way. Let me start by defining what ML is. I should mention that it\\'s a subset of AI, right? But maybe I should explain that first. Wait, the user might not know what AI is either. Hmm, maybe start with a simple definition: ML is the ability of computers to learn from data and improve at tasks without being explicitly programmed for each step. \\n\\nI should break it down into key components. Maybe talk about data, learning process, and the model. Oh, right, there are different types of ML: supervised, unsupervised, reinforcement learning. I should mention those briefly. Examples would help too, like email spam filters or recommendation systems. But I need to avoid jargon as much as possible.\\n\\nWait, the user might be a beginner, so I should start with the basics. Let me structure it step by step. First, define ML, then maybe how it works with data, the types of learning, applications, and maybe some benefits. Also, maybe a simple example to illustrate. Let me think of a real-world example they might know, like how Netflix recommends shows. That\\'s a good one.\\n\\nI should also touch on the difference between AI and ML. Some people confuse them, so clarifying that ML is a part of AI. Maybe mention that AI is a broader field, while ML uses data and algorithms to let computers learn on their own. \\n\\nWait, the user might not know the difference between algorithms and models. Maybe explain that models are built using algorithms and training data. The model can then make predictions or decisions. \\n\\nHold on, I should also mention that ML focuses on developing systems that can access data and use it to learn automatically. The key point is that the system improves over time with experience. That\\'s a crucial aspect. \\n\\nLet me outline the structure:\\n\\n1. Definition of ML\\n2. How it works: data input, learning process, model creation\\n3. Types of ML (supervised, unsupervised, reinforcement)\\n4. Applications\\n5. Relation to AI\\n6. Examples\\n7. Benefits\\n8. Challenges or considerations (maybe optional)\\n\\nWait, but the user just asked \"What is ML?\" so maybe keep it concise. Don\\'t get too deep into challenges unless necessary. Focus on the core explanation. \\n\\nAlso, maybe mention the two main categories: predictive and descriptive analytics. Or perhaps not, unless it helps. \\n\\nHmm, let me think of a simple example. Like, when you tag friends in photos on Facebook, the ML algorithm learns to recognize faces over time. That\\'s a good example of supervised learning. \\n\\nAlternatively, a self-driving car using reinforcement learning to navigate. But maybe that\\'s more complex. \\n\\nI need to ensure the explanation is accessible. Use everyday examples. \\n\\nOkay, putting it all together. Start with a clear definition, then explain the basic process (data -> model -> predictions). Then the types of learning with examples. Mention applications and how it\\'s part of AI. Keep it straightforward. Avoid technical terms unless explained. \\n\\nWait, should I mention neural networks or deep learning? Maybe briefly, but not necessary for a basic definition. Maybe just say that techniques like neural networks are used in ML. \\n\\nAlso, clarify that the model improves as it gets more data. Maybe use a simple analogy, like how kids learn from examples. \\n\\nAlright, I think I have a structure. Let me draft the response now.\\n</think>\\n\\n**Machine Learning (ML)** is a subset of artificial intelligence (AI) that focuses on developing algorithms and statistical models that enable computers to improve at tasks over time, based on data, without being explicitly programmed for each step. Instead of being manually coded for every decision, ML systems learn patterns from data, allowing them to make predictions, decisions, or identify trends autonomously.\\n\\n### Key Concepts:\\n1. **Data-Driven Learning**:  \\n   ML systems rely on large datasets to \"learn\" from examples. For instance, an email spam filter is trained on labeled data (e.g., \"spam\" vs. \"not spam\" messages) to recognize patterns and distinguish future emails.\\n\\n2. **Types of ML**:\\n   - **Supervised Learning**: Uses labeled data (input-output pairs) to train models.  \\n     *Example*: Predicting house prices based on features like size and location.\\n   - **Unsupervised Learning**: Finds hidden patterns in unlabeled data.  \\n     *Example*: Grouping customers into segments based on purchasing behavior.\\n   - **Reinforcement Learning**: Learns by trial and error, using rewards/penalties to optimize actions.  \\n     *Example*: A robot learning to navigate a maze by receiving rewards for reaching the exit.\\n\\n3. **The Process**:  \\n   - **Training**: The algorithm analyzes data to identify patterns (e.g., \"round shape = apple\" in image recognition).  \\n   - **Model Creation**: The algorithm generates a model (a mathematical representation of the data).  \\n   - **Prediction/Decision-Making**: The model applies its learned knowledge to new, unseen data (e.g., classifying a new email as spam).\\n\\n### Applications:\\n- **Healthcare**: Diagnosing diseases from medical scans.  \\n- **Retail**: Personalized product recommendations (e.g., Netflix, Amazon).  \\n- **Finance**: Fraud detection or stock market predictions.  \\n- **Autonomous Vehicles**: Navigating roads using real-time sensor data.  \\n\\n### Relation to AI:\\n- **AI** is the broader field of creating systems that mimic human intelligence (e.g., problem-solving, reasoning).  \\n- **ML** is a key technique within AI that automates learning and decision-making through data.\\n\\n### Why ML Matters:\\n- Reduces human intervention for repetitive tasks.  \\n- Discovers insights from vast datasets too complex for manual analysis.  \\n- Powers advancements in automation, robotics, and personalized services.\\n\\n### Simple Analogy:\\nThink of ML like teaching a child:  \\n- Instead of telling it every possible answer (like traditional programming), you provide examples (data) and let it figure out rules (patterns). Over time, it gets better at tasks (like recognizing faces in photos).\\n\\nIn essence, ML is about empowering machines to learn from experience—just like humans do—so they can solve complex problems without explicit instructions.', additional_kwargs={}, response_metadata={'token_usage': {'completion_tokens': 1305, 'prompt_tokens': 14, 'total_tokens': 1319, 'completion_time': 3.235600814, 'prompt_time': 0.00311066, 'queue_time': 0.23236419900000002, 'total_time': 3.238711474}, 'model_name': 'qwen-qwq-32b', 'system_fingerprint': 'fp_512a3da6bb', 'finish_reason': 'stop', 'logprobs': None}, id='run-1f3ba003-86f8-4207-9eb0-704214ca681f-0', usage_metadata={'input_tokens': 14, 'output_tokens': 1305, 'total_tokens': 1319})"
      ]
     },
     "execution_count": 10,
     "metadata": {},
     "output_type": "execute_result"
    }
   ],
   "source": [
    "llm.invoke(\"What is ML?\")"
   ]
  },
  {
   "cell_type": "code",
   "execution_count": 11,
   "metadata": {},
   "outputs": [],
   "source": [
    "llm_with_tools=llm.bind_tools(tools=tools)\n"
   ]
  },
  {
   "cell_type": "code",
   "execution_count": 12,
   "metadata": {},
   "outputs": [
    {
     "data": {
      "text/plain": [
       "AIMessage(content='', additional_kwargs={'tool_calls': [{'id': 'call_9ksr', 'function': {'arguments': '{\"query\": \"recent news on artificial intelligence advancements and developments\"}', 'name': 'tavily_search_results_json'}, 'type': 'function'}]}, response_metadata={'token_usage': {'completion_tokens': 175, 'prompt_tokens': 356, 'total_tokens': 531, 'completion_time': 0.425050752, 'prompt_time': 0.027691109, 'queue_time': 0.24853793600000001, 'total_time': 0.452741861}, 'model_name': 'qwen-qwq-32b', 'system_fingerprint': 'fp_a91d9c2cfb', 'finish_reason': 'tool_calls', 'logprobs': None}, id='run-4811f707-4bf6-4bdb-96c9-d2dd50be5567-0', tool_calls=[{'name': 'tavily_search_results_json', 'args': {'query': 'recent news on artificial intelligence advancements and developments'}, 'id': 'call_9ksr', 'type': 'tool_call'}], usage_metadata={'input_tokens': 356, 'output_tokens': 175, 'total_tokens': 531})"
      ]
     },
     "execution_count": 12,
     "metadata": {},
     "output_type": "execute_result"
    }
   ],
   "source": [
    "## Execute this call\n",
    "llm_with_tools.invoke(\"What is the recent news on AI?\")"
   ]
  },
  {
   "cell_type": "code",
   "execution_count": 13,
   "metadata": {},
   "outputs": [
    {
     "data": {
      "text/plain": [
       "AIMessage(content='', additional_kwargs={'tool_calls': [{'id': 'call_kz1b', 'function': {'arguments': '{\"query\": \"quantum computing\"}', 'name': 'arxiv'}, 'type': 'function'}]}, response_metadata={'token_usage': {'completion_tokens': 307, 'prompt_tokens': 357, 'total_tokens': 664, 'completion_time': 0.767109346, 'prompt_time': 0.030940333, 'queue_time': 0.25539084100000004, 'total_time': 0.798049679}, 'model_name': 'qwen-qwq-32b', 'system_fingerprint': 'fp_07cd5d759a', 'finish_reason': 'tool_calls', 'logprobs': None}, id='run-c8b11490-9011-4121-8a37-c15ba1a94849-0', tool_calls=[{'name': 'arxiv', 'args': {'query': 'quantum computing'}, 'id': 'call_kz1b', 'type': 'tool_call'}], usage_metadata={'input_tokens': 357, 'output_tokens': 307, 'total_tokens': 664})"
      ]
     },
     "execution_count": 13,
     "metadata": {},
     "output_type": "execute_result"
    }
   ],
   "source": [
    "## Execute this call\n",
    "llm_with_tools.invoke(\"What is the latest research on quantum computing?\")\n"
   ]
  },
  {
   "cell_type": "code",
   "execution_count": 14,
   "metadata": {},
   "outputs": [
    {
     "data": {
      "text/plain": [
       "AIMessage(content='', additional_kwargs={'tool_calls': [{'id': 'call_1zvx', 'function': {'arguments': '{\"query\": \"Machine learning\"}', 'name': 'wikipedia'}, 'type': 'function'}]}, response_metadata={'token_usage': {'completion_tokens': 330, 'prompt_tokens': 353, 'total_tokens': 683, 'completion_time': 0.800013369, 'prompt_time': 0.021880478, 'queue_time': 0.24483532099999997, 'total_time': 0.821893847}, 'model_name': 'qwen-qwq-32b', 'system_fingerprint': 'fp_a91d9c2cfb', 'finish_reason': 'tool_calls', 'logprobs': None}, id='run-d5ea20d6-8cfe-434e-aaf1-e288f5640d42-0', tool_calls=[{'name': 'wikipedia', 'args': {'query': 'Machine learning'}, 'id': 'call_1zvx', 'type': 'tool_call'}], usage_metadata={'input_tokens': 353, 'output_tokens': 330, 'total_tokens': 683})"
      ]
     },
     "execution_count": 14,
     "metadata": {},
     "output_type": "execute_result"
    }
   ],
   "source": [
    "## Execute this call\n",
    "llm_with_tools.invoke(\"What is machine learning?\")"
   ]
  },
  {
   "cell_type": "markdown",
   "metadata": {},
   "source": [
    "## Workflow "
   ]
  },
  {
   "cell_type": "code",
   "execution_count": 15,
   "metadata": {},
   "outputs": [],
   "source": [
    "## State Schema\n",
    "from typing_extensions import TypedDict\n",
    "from langchain_core.messages import AnyMessage # Human message or AI message\n",
    "from typing import Annotated  ##labeling\n",
    "from langgraph.graph.message import add_messages  # Reducers in Langgraph"
   ]
  },
  {
   "cell_type": "code",
   "execution_count": 16,
   "metadata": {},
   "outputs": [],
   "source": [
    "class State(TypedDict):\n",
    "    messages: Annotated[list[AnyMessage], add_messages]\n",
    "    "
   ]
  },
  {
   "cell_type": "code",
   "execution_count": 17,
   "metadata": {},
   "outputs": [],
   "source": [
    "### Entire Chatbot With LangGraph\n",
    "from IPython.display import Image, display\n",
    "from langgraph.graph import StateGraph, START, END\n",
    "from langgraph.prebuilt import ToolNode\n",
    "from langgraph.prebuilt import tools_condition"
   ]
  },
  {
   "cell_type": "code",
   "execution_count": 18,
   "metadata": {},
   "outputs": [
    {
     "data": {
      "image/png": "[encoded data removed]",
      "text/plain": [
       "<IPython.core.display.Image object>"
      ]
     },
     "metadata": {},
     "output_type": "display_data"
    }
   ],
   "source": [
    "### Node definition\n",
    "def tool_calling_llm(state:State):\n",
    "    return {\"messages\":[llm_with_tools.invoke(state[\"messages\"])]}\n",
    "\n",
    "# Build graph\n",
    "builder = StateGraph(State)\n",
    "builder.add_node(\"tool_calling_llm\", tool_calling_llm)\n",
    "builder.add_node(\"tools\", ToolNode(tools))\n",
    "\n",
    "## Edgess\n",
    "builder.add_edge(START, \"tool_calling_llm\")\n",
    "builder.add_conditional_edges(\n",
    "    \"tool_calling_llm\",\n",
    "    # If the latest message (result) from assistant is a tool call -> tools_condition routes to tools\n",
    "    # If the latest message (result) from assistant is a not a tool call -> tools_condition routes to END\n",
    "    tools_condition,\n",
    ")\n",
    "builder.add_edge(\"tools\", END)\n",
    "\n",
    "graph = builder.compile()\n",
    "\n",
    "# View\n",
    "display(Image(graph.get_graph().draw_mermaid_png()))"
   ]
  },
  {
   "cell_type": "code",
   "execution_count": 19,
   "metadata": {},
   "outputs": [
    {
     "name": "stdout",
     "output_type": "stream",
     "text": [
      "================================\u001b[1m Human Message \u001b[0m=================================\n",
      "\n",
      "1706.03762\n",
      "==================================\u001b[1m Ai Message \u001b[0m==================================\n",
      "Tool Calls:\n",
      "  arxiv (call_yey4)\n",
      " Call ID: call_yey4\n",
      "  Args:\n",
      "    query: 1706.03762\n",
      "=================================\u001b[1m Tool Message \u001b[0m=================================\n",
      "Name: arxiv\n",
      "\n",
      "Published: 2023-08-02\n",
      "Title: Attention Is All You Need\n",
      "Authors: Ashish Vaswani, Noam Shazeer, Niki Parmar, Jakob Uszkoreit, Llion Jones, Aidan N. Gomez, Lukasz Kaiser, Illia Polosukhin\n",
      "Summary: The dominant sequence transduction models are based on complex recurrent or\n",
      "convolutional neural networks in an encoder-decoder configuration. The best\n",
      "performing models also connect the encoder and decoder through an attention\n",
      "mechanism. We propose a new simple network architecture, the Transformer, base\n"
     ]
    }
   ],
   "source": [
    "messages=graph.invoke({\"messages\":\"1706.03762\"})\n",
    "for m in messages['messages']:\n",
    "    m.pretty_print()"
   ]
  },
  {
   "cell_type": "code",
   "execution_count": 20,
   "metadata": {},
   "outputs": [
    {
     "name": "stdout",
     "output_type": "stream",
     "text": [
      "================================\u001b[1m Human Message \u001b[0m=================================\n",
      "\n",
      "Hi My name is Srijan Joshi\n",
      "==================================\u001b[1m Ai Message \u001b[0m==================================\n",
      "\n",
      "Hello Srijan! Nice to meet you. I'm Qwen, a large language model developed by Alibaba Cloud. How can I assist you today? 😊\n"
     ]
    }
   ],
   "source": [
    "messages=graph.invoke({\"messages\":\"Hi My name is Srijan Joshi\"})\n",
    "for m in messages['messages']:\n",
    "    m.pretty_print()"
   ]
  },
  {
   "cell_type": "code",
   "execution_count": 21,
   "metadata": {},
   "outputs": [
    {
     "data": {
      "image/png": "[encoded data removed]",
      "text/plain": [
       "<IPython.core.display.Image object>"
      ]
     },
     "metadata": {},
     "output_type": "display_data"
    }
   ],
   "source": [
    "### Node definition\n",
    "def tool_calling_llm(state:State):\n",
    "    return {\"messages\":[llm_with_tools.invoke(state[\"messages\"])]}\n",
    "\n",
    "# Build graph\n",
    "builder = StateGraph(State)\n",
    "builder.add_node(\"tool_calling_llm\", tool_calling_llm)\n",
    "builder.add_node(\"tools\", ToolNode(tools))\n",
    "\n",
    "## Edgess\n",
    "builder.add_edge(START, \"tool_calling_llm\")\n",
    "builder.add_conditional_edges(\n",
    "    \"tool_calling_llm\",\n",
    "    # If the latest message (result) from assistant is a tool call -> tools_condition routes to tools\n",
    "    # If the latest message (result) from assistant is a not a tool call -> tools_condition routes to END\n",
    "    tools_condition,\n",
    ")\n",
    "builder.add_edge(\"tools\", \"tool_calling_llm\")\n",
    "\n",
    "graph = builder.compile()\n",
    "\n",
    "# View\n",
    "display(Image(graph.get_graph().draw_mermaid_png()))"
   ]
  },
  {
   "cell_type": "code",
   "execution_count": 22,
   "metadata": {},
   "outputs": [
    {
     "name": "stdout",
     "output_type": "stream",
     "text": [
      "================================\u001b[1m Human Message \u001b[0m=================================\n",
      "\n",
      "What is the recent AI news and then please tell me recent research paper on quantum computing?\n",
      "==================================\u001b[1m Ai Message \u001b[0m==================================\n",
      "Tool Calls:\n",
      "  tavily_search_results_json (call_ydgs)\n",
      " Call ID: call_ydgs\n",
      "  Args:\n",
      "    query: recent AI news\n",
      "  arxiv (call_0atn)\n",
      " Call ID: call_0atn\n",
      "  Args:\n",
      "    query: quantum computing\n",
      "=================================\u001b[1m Tool Message \u001b[0m=================================\n",
      "Name: tavily_search_results_json\n",
      "\n",
      "[{\"title\": \"AI News | Latest AI News, Analysis & Events\", \"url\": \"https://www.artificialintelligence-news.com/\", \"content\": \"Marketing Tech News\\nApril 16, 2025\\nOpenAI explores social platform following $40B funding round\\n\\nAI News\\nApril 15, 2025\\nMeta will train AI models using EU user data\\n\\nDeveloper Tech News\\nApril 15, 2025\\nMasquerading payment npm package installs backdoor\\n\\nTelecoms Tech News\\nApril 15, 2025\\nFCC chair calls EU satellite strategy ‘anti-American’\\nSubscribe\\nAll our premium content and latest tech news delivered straight to your inbox\\nSubscribe\\n\\n\\n\\n\\n\\n\\n\\nExplore [...] Artificial Intelligence, Companies, Deep & Reinforcement Learning, Development\\nMarch 6, 2025\\nDeepSeek-R1 reasoning models rival OpenAI in performance\\nArtificial Intelligence, Companies, Deep & Reinforcement Learning, Development\\nJanuary 20, 2025\\nNew AI training techniques aim to overcome current challenges\\nDeep & Reinforcement Learning, Machine Learning, NVIDIA, Research\\nNovember 28, 2024 [...] Applications, Artificial Intelligence, Companies, DeepMind, Google, Industries\\nApril 14, 2025\\nIEA: The opportunities and challenges of AI for global energy\\nApplications, Artificial Intelligence, Energy, Ethics & Society, Industries, Research\\nApril 10, 2025\\nSpot AI introduces the world’s first universal AI agent builder for security cameras\\nApplications, Artificial Intelligence, Healthcare, Security\\nApril 10, 2025\\nDeep Learning\\nAlibaba Qwen QwQ-32B: Scaled reinforcement learning showcase\", \"score\": 0.81025416}, {\"title\": \"AI News & Artificial Intelligence - TechCrunch\", \"url\": \"https://techcrunch.com/category/artificial-intelligence/\", \"content\": \"1 day ago\\n\\n\\n\\nAI\\nOpenAI hires team behind GV-backed AI eval platform Context.ai\\n\\nIvan Mehta\\n\\n1 day ago\\n\\n\\n\\nAI\\nAnthropic forms a new team to grow its AWS business\\n\\nKyle Wiggers\\n\\n2 days ago\\n\\n\\n\\nAI\\nAnthropic’s Claude can now read your Gmail\\n\\nMaxwell Zeff\\n\\n2 days ago\\n\\n\\n\\nAI\\nGoogle’s Veo 2 video generating model comes to Gemini\\n\\nKyle Wiggers\\n\\n2 days ago\\n\\n\\n\\nAI\\nWitness a dynamic dialogue between two visionary CEOs\\n\\nCindy Zackney\\n\\n2 days ago\\n\\n\\n\\nIn Brief [...] Headlines Only\\nLoad More\\n\\n\\n\\nAI\\nxAI adds a ‘memory’ feature to Grok\\n\\nKyle Wiggers\\n\\n4 hours ago\\n\\n\\n\\nIn Brief\\n\\nTrump administration reportedly considers a US DeepSeek ban\\n\\nMaxwell Zeff\\n\\n7 hours ago\\n\\n\\n\\nAI\\nOpenAI’s latest AI models have a new safeguard to prevent biorisks\\n\\nMaxwell Zeff\\n\\n9 hours ago\\n\\n\\n\\nAI\\nOpenAI is reportedly in talks to buy Windsurf for $3B, with news expected later this week\\n\\nMarina Temkin\\n\\n10 hours ago [...] 16 hours ago\\n\\n\\n\\nGovernment & Policy\\nAMD expects $800M charge due to US’ license requirement for AI chips\\n\\nKyle Wiggers\\n\\n17 hours ago\\n\\n\\n\\nAI\\nA dev built a test to see how AI chatbots respond to controversial topics\\n\\nKyle Wiggers\\n\\n18 hours ago\\n\\n\\n\\nAI\\nHammerspace, an unstructured data wrangler used by Meta, raises $100M at $500M+ valuation\\n\\nIngrid Lunden\\n\\n19 hours ago\\n\\n\\n\\nGovernment & Policy\\nGoogle used AI to suspend over 39M ad accounts suspected of fraud\\n\\nJagmeet Singh\\n\\n20 hours ago\", \"score\": 0.76512027}, {\"title\": \"Artificial intelligence - NBC News\", \"url\": \"https://www.nbcnews.com/artificial-intelligence\", \"content\": \"ARTIFICIAL INTELLIGENCE\\nThe latest news and top stories on artificial intelligence, including ChatGPT, AI Chatbot and Bard.\\n Getty Images\\nARTIFICIAL INTELLIGENCE\\n'Billionaires versus billionaires': OpenAI feud between Elon Musk, Sam Altman faces federal judge\\n SeongJoon Cho / Bloomberg via Getty Images file\\nARTIFICIAL INTELLIGENCE\\nOpenAI partners with U.S. National Laboratories on scientific research, nuclear weapons security\\nAI NEWS [...] TOP VIDEO\\n 03:36 -----\\nAI startup DeepSeek causes buzz in China but draws global scrutiny over censorship and security\\nNBC News NOW\\n 02:03 -----\\nA.I. leaders say China may have copied U.S. technology\\nNightly News\\n 08:23 -----\\nNew Chinese A.I. tool 'DeepSeek' competes with American models\\nNBC News NOW\\n 01:09 -----\\nChinese A.I. app shakes up Silicon Valley, causing Wall Street selloff\\nNightly News\\n 02:43 -----\\nFast food goes high tech with new A.I. drive-thrus\\nNightly News\\n 03:50 ----- [...] Oscar front-runner ‘The Brutalist’ faces controversy of AI enhancements\\nNBC News NOW\\n 03:11 -----\\nTrump announces 'Stargate' AI infrastructure project with 'colossal data centers'\\nNBC News NOW\\n 01:29 -----\\nApple is poised to become the first publicly traded company worth four trillion dollars\\nNightly News\\n 02:28 -----\\nA.I. Revolution: How artificial intelligence is helping children with dyslexia\\nNightly News\\n 05:48 -----\\nDoctors seek help from AI in medical diagnosis\\nNBC News NOW\\n 02:59 -----\", \"score\": 0.7500592}, {\"title\": \"Artificial Intelligence - Latest AI News and Analysis - WSJ.com\", \"url\": \"https://www.wsj.com/tech/ai\", \"content\": \"McDonald’s Gives Its Restaurants an AI Makeover\\nThe fast-food giant’s new initiative uses artificial intelligence to target order accuracy and help restaurants detect equipment issues before they fail.\\nBy\\nIsabelle Bousquetteand\\nBelle Lin\\n4 min read\\n\\nBeijing Ramps Up Efforts For Tech Independence\\nIn a speech to the country’s lawmakers, Chinese Premier Li Qiang said AI would be key to boosting China’s digital economy.\\nBy\\nRaffaele Huang\\n1 min read [...] This Scientist Left OpenAI Last Year. His Startup Is Already Worth $30 Billion.\\n5 min read\\n\\nTrump, Chip Maker TSMC Announce $100 Billion Investment in U.S.\\n4 min read\\n\\nA Disney Worker Downloaded an AI Tool. It Led to a Hack That Ruined His Life.\\n6 min read\\n\\nLarry Ellison’s Half-Billion-Dollar Quest to Change Farming Has Been a Bust\\nLong read\\n\\nChinese Buyers Are Ordering Nvidia’s Newest AI Chips, Defying U.S. Curbs\\n5 min read\\nAdvertisement\\n\\nRelated Opinion\\nOPINION\", \"score\": 0.6612456}]\n",
      "=================================\u001b[1m Tool Message \u001b[0m=================================\n",
      "Name: arxiv\n",
      "\n",
      "Published: 2022-08-01\n",
      "Title: The Rise of Quantum Internet Computing\n",
      "Authors: Seng W. Loke\n",
      "Summary: This article highlights quantum Internet computing as referring to\n",
      "distributed quantum computing over the quantum Internet, analogous to\n",
      "(classical) Internet computing involving (classical) distributed computing over\n",
      "the (classical) Internet. Relevant to quantum Internet computing would be areas\n",
      "of study such as quantum protocols for distributed nodes using quantum\n",
      "information for computations, qua\n",
      "==================================\u001b[1m Ai Message \u001b[0m==================================\n",
      "\n",
      "Here's the information based on the tool responses:\n",
      "\n",
      "---\n",
      "\n",
      "### **Recent AI News Highlights (As of Latest Tool Data):**\n",
      "1. **OpenAI's Developments**:  \n",
      "   - OpenAI is exploring a social platform following a $40B funding round.  \n",
      "   - OpenAI is reportedly in talks to acquire Windsurf for $3B to enhance safeguards against misuse.  \n",
      "   - They introduced new safeguards in their latest models to prevent biorisk scenarios.  \n",
      "\n",
      "2. **Meta & Data Usage**:  \n",
      "   - Meta announced plans to train AI models using EU user data, raising privacy concerns.  \n",
      "\n",
      "3. **Global & Policy Updates**:  \n",
      "   - The U.S. Federal Communications Commission (FCC) criticized the EU’s satellite strategy as \"anti-American.\"  \n",
      "   - China’s DeepSeek AI, which faced scrutiny for potential censorship, gained attention globally.  \n",
      "\n",
      "4. **Industry & Innovation**:  \n",
      "   - Alibaba’s Qwen (DeepSeek) 32B parameter model showcases advancements in reinforcement learning.  \n",
      "   - Hammerspace raised $100M to manage unstructured data for AI workloads.  \n",
      "\n",
      "---\n",
      "\n",
      "### **Recent Research Paper on Quantum Computing**  \n",
      "The tool returned a paper from **August 2022**:  \n",
      "- **Title**: *The Rise of Quantum Internet Computing*  \n",
      "- **Author**: Seng W. Loke  \n",
      "- **Summary**: Discusses distributed quantum computing over a quantum internet, focusing on protocols for nodes using quantum information.  \n",
      "\n",
      "**Note**: This paper is over three years old. For truly recent research (2023–2024), I recommend explicitly searching for papers published in the last 12 months, as ArXiv may prioritize relevance over recency in searches.  \n",
      "\n",
      "Let me know if you'd like further refinements or additional details!\n"
     ]
    }
   ],
   "source": [
    "messages=graph.invoke({\"messages\":\"What is the recent AI news and then please tell me recent research paper on quantum computing?\"})\n",
    "for m in messages['messages']:\n",
    "    m.pretty_print()"
   ]
  },
  {
   "cell_type": "code",
   "execution_count": null,
   "metadata": {},
   "outputs": [],
   "source": []
  }
 ],
 "metadata": {
  "kernelspec": {
   "display_name": "venv",
   "language": "python",
   "name": "python3"
  },
  "language_info": {
   "codemirror_mode": {
    "name": "ipython",
    "version": 3
   },
   "file_extension": ".py",
   "mimetype": "text/x-python",
   "name": "python",
   "nbconvert_exporter": "python",
   "pygments_lexer": "ipython3",
   "version": "3.11.1"
  }
 },
 "nbformat": 4,
 "nbformat_minor": 2
}
